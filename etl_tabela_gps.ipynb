{
 "cells": [
  {
   "cell_type": "markdown",
   "metadata": {
    "id": "l-Oi22_sNLmY",
    "tags": []
   },
   "source": [
    "# ELT GPS Retroescavadeira\n",
    "## 1. Extract\n",
    "1.1. If dont have parquet file it will come from gsheet\n",
    "## 2.Load\n",
    "2.1. Load and convert in df pandas\n",
    "## 3. Transform\n",
    "3.1. Normalize de dataframe\n",
    "\n",
    "\n",
    "Nestre exemplo os dados coletados em 2022 fornecidos pelo gps da retroscavadeira JCB 3CX, foram armazenados em um unico arquivo em formato de gsheet. Este estudo tem por finalidade **obter informação** utilizando tecnica da engenharia de dados"
   ]
  },
  {
   "cell_type": "code",
   "execution_count": 1,
   "metadata": {
    "id": "Todx_eCR7L9I",
    "tags": []
   },
   "outputs": [],
   "source": [
    "import pandas as pd\n",
    "import matplotlib as plt"
   ]
  },
  {
   "cell_type": "code",
   "execution_count": 2,
   "metadata": {
    "id": "hS9OutuO8iq5",
    "tags": []
   },
   "outputs": [],
   "source": [
    "import extrair as extrair\n",
    "import funcoes_gps as funcoes_gps"
   ]
  },
  {
   "cell_type": "code",
   "execution_count": 15,
   "metadata": {
    "colab": {
     "base_uri": "https://localhost:8080/",
     "height": 258
    },
    "id": "1_tPt-g28sy1",
    "outputId": "c2ddd7b4-8f06-4de6-8018-d1236600b02a",
    "tags": []
   },
   "outputs": [
    {
     "data": {
      "text/plain": [
       "'df from:data/bronze_jcb_relatorio_2022.parquet'"
      ]
     },
     "metadata": {},
     "output_type": "display_data"
    },
    {
     "data": {
      "text/html": [
       "<div>\n",
       "<style scoped>\n",
       "    .dataframe tbody tr th:only-of-type {\n",
       "        vertical-align: middle;\n",
       "    }\n",
       "\n",
       "    .dataframe tbody tr th {\n",
       "        vertical-align: top;\n",
       "    }\n",
       "\n",
       "    .dataframe thead th {\n",
       "        text-align: right;\n",
       "    }\n",
       "</style>\n",
       "<table border=\"1\" class=\"dataframe\">\n",
       "  <thead>\n",
       "    <tr style=\"text-align: right;\">\n",
       "      <th></th>\n",
       "      <th>id</th>\n",
       "      <th>data_hora</th>\n",
       "      <th>hyperlink</th>\n",
       "      <th>atividade</th>\n",
       "      <th>maps_google_url</th>\n",
       "      <th>gps_ativo</th>\n",
       "    </tr>\n",
       "  </thead>\n",
       "  <tbody>\n",
       "    <tr>\n",
       "      <th>0</th>\n",
       "      <td>1</td>\n",
       "      <td>1/1/2022 11:56:00</td>\n",
       "      <td>=HYPERLINK(\"http://maps.google.com/?q=-25,5707...</td>\n",
       "      <td>Estado Activo</td>\n",
       "      <td>(\"http://maps.google.com/?q=-25,5707582,-49,19...</td>\n",
       "      <td>False</td>\n",
       "    </tr>\n",
       "    <tr>\n",
       "      <th>1</th>\n",
       "      <td>2</td>\n",
       "      <td>1/1/2022 11:56:00</td>\n",
       "      <td>=HYPERLINK(\"http://maps.google.com/?q=-25,5707...</td>\n",
       "      <td>Ligado</td>\n",
       "      <td>(\"http://maps.google.com/?q=-25,5707582,-49,19...</td>\n",
       "      <td>False</td>\n",
       "    </tr>\n",
       "    <tr>\n",
       "      <th>2</th>\n",
       "      <td>3</td>\n",
       "      <td>1/1/2022 11:58:00</td>\n",
       "      <td>=HYPERLINK(\"http://maps.google.com/?q=-25,5707...</td>\n",
       "      <td>GSM Diagnostics-pt</td>\n",
       "      <td>(\"http://maps.google.com/?q=-25,5707582,-49,19...</td>\n",
       "      <td>False</td>\n",
       "    </tr>\n",
       "    <tr>\n",
       "      <th>3</th>\n",
       "      <td>4</td>\n",
       "      <td>1/1/2022 11:58:00</td>\n",
       "      <td>=HYPERLINK(\"http://maps.google.com/?q=-25,5707...</td>\n",
       "      <td>Primeiro Acerto do GPS</td>\n",
       "      <td>(\"http://maps.google.com/?q=-25,5707972,-49,19...</td>\n",
       "      <td>True</td>\n",
       "    </tr>\n",
       "    <tr>\n",
       "      <th>4</th>\n",
       "      <td>5</td>\n",
       "      <td>1/1/2022 11:59:00</td>\n",
       "      <td>=HYPERLINK(\"http://maps.google.com/?q=-25,5708...</td>\n",
       "      <td>GSM Diagnostics-pt</td>\n",
       "      <td>(\"http://maps.google.com/?q=-25,5708027,-49,19...</td>\n",
       "      <td>True</td>\n",
       "    </tr>\n",
       "  </tbody>\n",
       "</table>\n",
       "</div>"
      ],
      "text/plain": [
       "   id          data_hora                                          hyperlink  \\\n",
       "0   1  1/1/2022 11:56:00  =HYPERLINK(\"http://maps.google.com/?q=-25,5707...   \n",
       "1   2  1/1/2022 11:56:00  =HYPERLINK(\"http://maps.google.com/?q=-25,5707...   \n",
       "2   3  1/1/2022 11:58:00  =HYPERLINK(\"http://maps.google.com/?q=-25,5707...   \n",
       "3   4  1/1/2022 11:58:00  =HYPERLINK(\"http://maps.google.com/?q=-25,5707...   \n",
       "4   5  1/1/2022 11:59:00  =HYPERLINK(\"http://maps.google.com/?q=-25,5708...   \n",
       "\n",
       "                atividade                                    maps_google_url  \\\n",
       "0           Estado Activo  (\"http://maps.google.com/?q=-25,5707582,-49,19...   \n",
       "1                  Ligado  (\"http://maps.google.com/?q=-25,5707582,-49,19...   \n",
       "2      GSM Diagnostics-pt  (\"http://maps.google.com/?q=-25,5707582,-49,19...   \n",
       "3  Primeiro Acerto do GPS  (\"http://maps.google.com/?q=-25,5707972,-49,19...   \n",
       "4      GSM Diagnostics-pt  (\"http://maps.google.com/?q=-25,5708027,-49,19...   \n",
       "\n",
       "   gps_ativo  \n",
       "0      False  \n",
       "1      False  \n",
       "2      False  \n",
       "3       True  \n",
       "4       True  "
      ]
     },
     "metadata": {},
     "output_type": "display_data"
    }
   ],
   "source": [
    "try: \n",
    "    file = 'data/bronze_jcb_relatorio_2022.parquet'\n",
    "    df = pd.read_parquet(file)\n",
    "    display('df from:'+file)\n",
    "except:\n",
    "    dic = extrair.json_to_dic('variaveis.json')\n",
    "    display(display(dic['gsheet']['jcb_relatorio_amostra']))\n",
    "\n",
    "    df = extrair.gsheet_to_df(\n",
    "        id=dic['gsheet']['jcb_relatorio_2022']['id'],\n",
    "        tabela=dic['gsheet']['jcb_relatorio_amostra']['tabela'],\n",
    "        testar=False)\n",
    "    df.to_parquet(file)\n",
    "    display('df from: gsheet')\n",
    "display(df.head(5))"
   ]
  },
  {
   "cell_type": "code",
   "execution_count": 16,
   "metadata": {
    "colab": {
     "base_uri": "https://localhost:8080/",
     "height": 206
    },
    "id": "HdluprV__b3c",
    "outputId": "b1e92f2c-8f79-41bf-f000-df09040ec851"
   },
   "outputs": [
    {
     "data": {
      "text/html": [
       "<div>\n",
       "<style scoped>\n",
       "    .dataframe tbody tr th:only-of-type {\n",
       "        vertical-align: middle;\n",
       "    }\n",
       "\n",
       "    .dataframe tbody tr th {\n",
       "        vertical-align: top;\n",
       "    }\n",
       "\n",
       "    .dataframe thead th {\n",
       "        text-align: right;\n",
       "    }\n",
       "</style>\n",
       "<table border=\"1\" class=\"dataframe\">\n",
       "  <thead>\n",
       "    <tr style=\"text-align: right;\">\n",
       "      <th></th>\n",
       "      <th>data_hora</th>\n",
       "      <th>atividade</th>\n",
       "      <th>gps_ativo</th>\n",
       "      <th>hora</th>\n",
       "      <th>nome_dia</th>\n",
       "      <th>lat1</th>\n",
       "      <th>lon1</th>\n",
       "      <th>lat_lon</th>\n",
       "    </tr>\n",
       "  </thead>\n",
       "  <tbody>\n",
       "    <tr>\n",
       "      <th>0</th>\n",
       "      <td>2022-01-01 11:56:00</td>\n",
       "      <td>Estado Activo</td>\n",
       "      <td>False</td>\n",
       "      <td>11</td>\n",
       "      <td>saturday</td>\n",
       "      <td>-25.570758</td>\n",
       "      <td>-49.196145</td>\n",
       "      <td>-25.5707582|-49.1961449</td>\n",
       "    </tr>\n",
       "    <tr>\n",
       "      <th>1</th>\n",
       "      <td>2022-01-01 11:56:00</td>\n",
       "      <td>Ligado</td>\n",
       "      <td>False</td>\n",
       "      <td>11</td>\n",
       "      <td>saturday</td>\n",
       "      <td>-25.570758</td>\n",
       "      <td>-49.196145</td>\n",
       "      <td>-25.5707582|-49.1961449</td>\n",
       "    </tr>\n",
       "    <tr>\n",
       "      <th>2</th>\n",
       "      <td>2022-01-01 11:58:00</td>\n",
       "      <td>GSM Diagnostics-pt</td>\n",
       "      <td>False</td>\n",
       "      <td>11</td>\n",
       "      <td>saturday</td>\n",
       "      <td>-25.570758</td>\n",
       "      <td>-49.196145</td>\n",
       "      <td>-25.5707582|-49.1961449</td>\n",
       "    </tr>\n",
       "    <tr>\n",
       "      <th>3</th>\n",
       "      <td>2022-01-01 11:58:00</td>\n",
       "      <td>Primeiro Acerto do GPS</td>\n",
       "      <td>True</td>\n",
       "      <td>11</td>\n",
       "      <td>saturday</td>\n",
       "      <td>-25.570797</td>\n",
       "      <td>-49.196098</td>\n",
       "      <td>-25.5707972|-49.1960976</td>\n",
       "    </tr>\n",
       "    <tr>\n",
       "      <th>4</th>\n",
       "      <td>2022-01-01 11:59:00</td>\n",
       "      <td>GSM Diagnostics-pt</td>\n",
       "      <td>True</td>\n",
       "      <td>11</td>\n",
       "      <td>saturday</td>\n",
       "      <td>-25.570803</td>\n",
       "      <td>-49.196095</td>\n",
       "      <td>-25.5708027|-49.1960953</td>\n",
       "    </tr>\n",
       "  </tbody>\n",
       "</table>\n",
       "</div>"
      ],
      "text/plain": [
       "            data_hora               atividade  gps_ativo  hora  nome_dia  \\\n",
       "0 2022-01-01 11:56:00           Estado Activo      False    11  saturday   \n",
       "1 2022-01-01 11:56:00                  Ligado      False    11  saturday   \n",
       "2 2022-01-01 11:58:00      GSM Diagnostics-pt      False    11  saturday   \n",
       "3 2022-01-01 11:58:00  Primeiro Acerto do GPS       True    11  saturday   \n",
       "4 2022-01-01 11:59:00      GSM Diagnostics-pt       True    11  saturday   \n",
       "\n",
       "        lat1       lon1                  lat_lon  \n",
       "0 -25.570758 -49.196145  -25.5707582|-49.1961449  \n",
       "1 -25.570758 -49.196145  -25.5707582|-49.1961449  \n",
       "2 -25.570758 -49.196145  -25.5707582|-49.1961449  \n",
       "3 -25.570797 -49.196098  -25.5707972|-49.1960976  \n",
       "4 -25.570803 -49.196095  -25.5708027|-49.1960953  "
      ]
     },
     "metadata": {},
     "output_type": "display_data"
    }
   ],
   "source": [
    "def df_silver_a(remover_colunas:list,df)->pd.DataFrame:\n",
    "  \"\"\"\n",
    "\tconverter: data, hora e latitude e longitude\n",
    "\tobter colual: hora, nome_dia,lat_lon\n",
    "  \"\"\"\n",
    "  df['data_hora'] = pd.to_datetime(df['data_hora'], format='%m/%d/%Y %H:%M:%S')\n",
    "  df['hora'] = df['data_hora'].dt.hour\n",
    "  df['nome_dia'] = df['data_hora'].dt.day_name().str.lower()\n",
    "\n",
    "  df['lat'], df['lon'] = zip(*df['maps_google_url'].apply(funcoes_gps.url_to_coordenadas))\n",
    "  df['lat_lon'] = df['lat'].astype(str) + '|' + df['lon'].astype(str)\n",
    "\n",
    "  #converter colunas em string\n",
    "  colunas_str ={'nome_dia': 'string','lat_lon':'string','atividade':'string'}\n",
    "  df.astype(colunas_str).dtypes\n",
    "\n",
    "  #remover colunas\n",
    "  for coluna in remover_colunas:\n",
    "    if coluna in df.columns:\n",
    "      df = df.drop(coluna,axis=1)\n",
    "\n",
    "  return df\n",
    "\n",
    "remover_colunas = ['id','hyperlink','maps_google_url']\n",
    "df1 = df_silver_a(df=df,remover_colunas=remover_colunas)\n",
    "\n",
    "display(df1.head(5))"
   ]
  },
  {
   "cell_type": "code",
   "execution_count": 21,
   "metadata": {
    "colab": {
     "base_uri": "https://localhost:8080/",
     "height": 677
    },
    "id": "AmhEAeNpmCgk",
    "outputId": "c485514b-7d16-44db-c34e-d50f00c8b079"
   },
   "outputs": [
    {
     "data": {
      "text/html": [
       "<div>\n",
       "<style scoped>\n",
       "    .dataframe tbody tr th:only-of-type {\n",
       "        vertical-align: middle;\n",
       "    }\n",
       "\n",
       "    .dataframe tbody tr th {\n",
       "        vertical-align: top;\n",
       "    }\n",
       "\n",
       "    .dataframe thead th {\n",
       "        text-align: right;\n",
       "    }\n",
       "</style>\n",
       "<table border=\"1\" class=\"dataframe\">\n",
       "  <thead>\n",
       "    <tr style=\"text-align: right;\">\n",
       "      <th></th>\n",
       "      <th>data_hora</th>\n",
       "      <th>atividade</th>\n",
       "      <th>gps_ativo</th>\n",
       "      <th>hora</th>\n",
       "      <th>nome_dia</th>\n",
       "      <th>lat1</th>\n",
       "      <th>lon1</th>\n",
       "      <th>lat_lon</th>\n",
       "    </tr>\n",
       "  </thead>\n",
       "  <tbody>\n",
       "    <tr>\n",
       "      <th>0</th>\n",
       "      <td>2022-01-01 11:56:00</td>\n",
       "      <td>estado_activo</td>\n",
       "      <td>False</td>\n",
       "      <td>11</td>\n",
       "      <td>saturday</td>\n",
       "      <td>-25.570758</td>\n",
       "      <td>-49.196145</td>\n",
       "      <td>-25.5707582|-49.1961449</td>\n",
       "    </tr>\n",
       "    <tr>\n",
       "      <th>1</th>\n",
       "      <td>2022-01-01 11:56:00</td>\n",
       "      <td>ligado</td>\n",
       "      <td>False</td>\n",
       "      <td>11</td>\n",
       "      <td>saturday</td>\n",
       "      <td>-25.570758</td>\n",
       "      <td>-49.196145</td>\n",
       "      <td>-25.5707582|-49.1961449</td>\n",
       "    </tr>\n",
       "    <tr>\n",
       "      <th>2</th>\n",
       "      <td>2022-01-01 11:58:00</td>\n",
       "      <td>gsm_diagnostics-pt</td>\n",
       "      <td>False</td>\n",
       "      <td>11</td>\n",
       "      <td>saturday</td>\n",
       "      <td>-25.570758</td>\n",
       "      <td>-49.196145</td>\n",
       "      <td>-25.5707582|-49.1961449</td>\n",
       "    </tr>\n",
       "    <tr>\n",
       "      <th>3</th>\n",
       "      <td>2022-01-01 11:58:00</td>\n",
       "      <td>primeiro_acerto_do_gps</td>\n",
       "      <td>True</td>\n",
       "      <td>11</td>\n",
       "      <td>saturday</td>\n",
       "      <td>-25.570797</td>\n",
       "      <td>-49.196098</td>\n",
       "      <td>-25.5707972|-49.1960976</td>\n",
       "    </tr>\n",
       "    <tr>\n",
       "      <th>4</th>\n",
       "      <td>2022-01-01 11:59:00</td>\n",
       "      <td>gsm_diagnostics-pt</td>\n",
       "      <td>True</td>\n",
       "      <td>11</td>\n",
       "      <td>saturday</td>\n",
       "      <td>-25.570803</td>\n",
       "      <td>-49.196095</td>\n",
       "      <td>-25.5708027|-49.1960953</td>\n",
       "    </tr>\n",
       "  </tbody>\n",
       "</table>\n",
       "</div>"
      ],
      "text/plain": [
       "            data_hora               atividade  gps_ativo  hora  nome_dia  \\\n",
       "0 2022-01-01 11:56:00           estado_activo      False    11  saturday   \n",
       "1 2022-01-01 11:56:00                  ligado      False    11  saturday   \n",
       "2 2022-01-01 11:58:00      gsm_diagnostics-pt      False    11  saturday   \n",
       "3 2022-01-01 11:58:00  primeiro_acerto_do_gps       True    11  saturday   \n",
       "4 2022-01-01 11:59:00      gsm_diagnostics-pt       True    11  saturday   \n",
       "\n",
       "        lat1       lon1                  lat_lon  \n",
       "0 -25.570758 -49.196145  -25.5707582|-49.1961449  \n",
       "1 -25.570758 -49.196145  -25.5707582|-49.1961449  \n",
       "2 -25.570758 -49.196145  -25.5707582|-49.1961449  \n",
       "3 -25.570797 -49.196098  -25.5707972|-49.1960976  \n",
       "4 -25.570803 -49.196095  -25.5708027|-49.1960953  "
      ]
     },
     "execution_count": 21,
     "metadata": {},
     "output_type": "execute_result"
    }
   ],
   "source": [
    "def normalizar_nomes(nomes:list)->list:\n",
    "  \"\"\"\n",
    "  substituir espaço por \"_\"\n",
    "  converter tudo em minusculo\n",
    "  \"\"\"\n",
    "  nomes = [nome.lower() for nome in nomes]\n",
    "  nomes = [nome.replace(' ', '_') for nome in nomes]\n",
    "  return nomes\n",
    "\n",
    "atividades = df['atividade'].unique().tolist()\n",
    "atividades_normalizada = normalizar_nomes(atividades)\n",
    "\n",
    "for i,atividade in enumerate(atividades):\n",
    "  df1['atividade'] = df1['atividade'].replace(atividade, atividades_normalizada[i])\n",
    "\n",
    "df1.head(5)"
   ]
  },
  {
   "cell_type": "code",
   "execution_count": 28,
   "metadata": {
    "colab": {
     "base_uri": "https://localhost:8080/",
     "height": 373
    },
    "id": "Pwvks-ELkwvV",
    "outputId": "69004672-76e9-49d8-cbfe-b16cb421e11b"
   },
   "outputs": [
    {
     "data": {
      "text/plain": [
       "'------------------------------'"
      ]
     },
     "metadata": {},
     "output_type": "display_data"
    },
    {
     "data": {
      "text/plain": [
       "'nulos'"
      ]
     },
     "metadata": {},
     "output_type": "display_data"
    },
    {
     "data": {
      "text/plain": [
       "'Sem valores Nulos'"
      ]
     },
     "metadata": {},
     "output_type": "display_data"
    },
    {
     "data": {
      "text/plain": [
       "'------------------------------'"
      ]
     },
     "metadata": {},
     "output_type": "display_data"
    },
    {
     "data": {
      "text/plain": [
       "'duplicados'"
      ]
     },
     "metadata": {},
     "output_type": "display_data"
    },
    {
     "data": {
      "text/plain": [
       "293"
      ]
     },
     "metadata": {},
     "output_type": "display_data"
    },
    {
     "data": {
      "text/plain": [
       "'------------------------------'"
      ]
     },
     "metadata": {},
     "output_type": "display_data"
    },
    {
     "data": {
      "text/plain": [
       "'tipo_dados'"
      ]
     },
     "metadata": {},
     "output_type": "display_data"
    },
    {
     "data": {
      "text/plain": [
       "data_hora    datetime64[ns]\n",
       "atividade            object\n",
       "gps_ativo              bool\n",
       "hora                  int64\n",
       "nome_dia             object\n",
       "lat1                float64\n",
       "lon1                float64\n",
       "lat_lon              object\n",
       "ativo                 int64\n",
       "dtype: object"
      ]
     },
     "metadata": {},
     "output_type": "display_data"
    },
    {
     "data": {
      "text/plain": [
       "'------------------------------'"
      ]
     },
     "metadata": {},
     "output_type": "display_data"
    },
    {
     "data": {
      "text/plain": [
       "'objetos'"
      ]
     },
     "metadata": {},
     "output_type": "display_data"
    },
    {
     "data": {
      "text/plain": [
       "Index(['atividade', 'nome_dia', 'lat_lon'], dtype='object')"
      ]
     },
     "metadata": {},
     "output_type": "display_data"
    }
   ],
   "source": [
    "def df_analise(df:pd.DataFrame)->dict:\n",
    "    \"\"\"\n",
    "    analisar conteudo dataframe\n",
    "    \"\"\"\n",
    "    dic = {}\n",
    "    if df.isna().sum().sum()==0:\n",
    "        dic['nulos'] = 'Sem valores Nulos'\n",
    "    else:\n",
    "        dic['nulos'] = df.isna().sum()\n",
    "\n",
    "    dic['duplicados'] = df.duplicated().sum()\n",
    "    dic['tipo_dados'] = df.dtypes\n",
    "    dic['objetos'] = df.select_dtypes(include=['object']).columns\n",
    "    return dic\n",
    "\n",
    "dic = df_analise(df1)\n",
    "\n",
    "for k,v in dic.items():\n",
    "    display('-'*30)\n",
    "    display(k,v)\n"
   ]
  },
  {
   "cell_type": "code",
   "execution_count": 8,
   "metadata": {
    "colab": {
     "base_uri": "https://localhost:8080/"
    },
    "id": "YUPaMTVaDqbC",
    "outputId": "56b754f8-90c0-4649-fc78-5df92435d441"
   },
   "outputs": [
    {
     "data": {
      "text/plain": [
       "array(['estado_activo', 'ligado', 'gsm_diagnostics-pt',\n",
       "       'primeiro_acerto_do_gps', 'prestes_a_entrar_em_estado_de_descanso',\n",
       "       'gsm_metrics-pt', 'chave_ligada', 'arranque_do_motor',\n",
       "       'chave_desligada', 'paragem_do_motor', 'em_andamento',\n",
       "       'sem_potência', 'relatório_atempado',\n",
       "       'routine_data_transmission-pt', 'parado',\n",
       "       'a_ser_rebocado_(ou_o_sinal_da_ignição_não_funciona)',\n",
       "       'entrada_de_distância'], dtype=object)"
      ]
     },
     "execution_count": 8,
     "metadata": {},
     "output_type": "execute_result"
    }
   ],
   "source": [
    "#conhecer atividades disponiveis \n",
    "df1['atividade'].unique()"
   ]
  },
  {
   "cell_type": "markdown",
   "metadata": {
    "id": "UdbaqVpsD4pS",
    "tags": []
   },
   "source": [
    "### encontrar o quando a maquina esteve em operação\n",
    "1. horario\n",
    "2. dia da semana"
   ]
  },
  {
   "cell_type": "code",
   "execution_count": 89,
   "metadata": {
    "colab": {
     "base_uri": "https://localhost:8080/",
     "height": 451
    },
    "id": "mjESouI133Xc",
    "outputId": "024594f4-9cf4-4e81-86e5-bd19c24d34e9"
   },
   "outputs": [
    {
     "data": {
      "text/plain": [
       "{'dia': {'query': '7<=hora<=17', 'qtd': 11900, '%': 98.48, 'ativo': 1}}"
      ]
     },
     "metadata": {},
     "output_type": "display_data"
    },
    {
     "data": {
      "image/png": "[encoded data removed]",
      "text/plain": [
       "<Figure size 640x480 with 1 Axes>"
      ]
     },
     "metadata": {},
     "output_type": "display_data"
    }
   ],
   "source": [
    "def turno_atividade(atividade:str,df:pd.DataFrame)->dict:\n",
    "    \"\"\"\n",
    "    Encontrar o horario de operação de uma atividade:   \n",
    "    \"\"\"\n",
    "    df1 = df.query(f'atividade ==\"{atividade}\"')\n",
    "    total_linhas = df1.shape[0]\n",
    "    \n",
    "    turnos = {\n",
    "        'magrudada':{'query':'0<=hora<=6','qtd':0,'%':0},\n",
    "        'dia':{'query':'7<=hora<=17','qtd':0,'%':0},\n",
    "        'noite':{'query':'18<=hora<=23','qtd':0,'%':0},\n",
    "        }\n",
    "    for k,v in turnos.items():\n",
    "        turnos[k]['qtd'] = len(df1.query(v['query']))\n",
    "        turnos[k]['%'] = round((turnos[k]['qtd']/total_linhas)*100,2)\n",
    "        turnos[k]['ativo']= 1 if turnos[k]['%']>5 else 0\n",
    "    \n",
    "    df1['hora'].value_counts().sort_index(ascending=True).plot(kind='bar')\n",
    "    \n",
    "    turno_ativo = {k: v for k, v in turnos.items() if v['ativo'] > 0}\n",
    "    \n",
    "    return turno_ativo\n",
    "turnos_arranque_motor = turno_atividade(atividade='arranque_do_motor',df=df1)\n",
    "display(turnos_arranque_motor)"
   ]
  },
  {
   "cell_type": "code",
   "execution_count": 97,
   "metadata": {
    "colab": {
     "base_uri": "https://localhost:8080/",
     "height": 451
    },
    "id": "PUWvzg3n7_fC",
    "outputId": "b9d9ef22-bbc8-4a89-857f-cc8247313a9a"
   },
   "outputs": [
    {
     "data": {
      "text/plain": [
       "{'wednesday': 18,\n",
       " 'friday': 20,\n",
       " 'monday': 18,\n",
       " 'thursday': 18,\n",
       " 'tuesday': 18,\n",
       " 'saturday': 7}"
      ]
     },
     "metadata": {},
     "output_type": "display_data"
    },
    {
     "data": {
      "image/png": "[encoded data removed]",
      "text/plain": [
       "<Figure size 640x480 with 1 Axes>"
      ]
     },
     "metadata": {},
     "output_type": "display_data"
    }
   ],
   "source": [
    "def dia_semana_atividade(atividade:str,df:pd.DataFrame)->dict:\n",
    "    df1 = df.query(f'atividade ==\"{atividade}\"')\n",
    "    total_linhas = df1.shape[0]\n",
    "     \n",
    "    dic = {}\n",
    "    dias_semana = df1['nome_dia'].unique().tolist()\n",
    "    for dia in dias_semana:\n",
    "        \n",
    "        dic[dia]=len(df1.query(f'nome_dia ==\"{dia}\"'))\n",
    "        dic[dia] =round(dic[dia]/total_linhas,2)\n",
    "        dic[dia] = int(dic[dia]*100)\n",
    "        dia_ativo = {day: value for day, value in dic.items() if value > 5}\n",
    "        \n",
    "        df1['nome_dia'].value_counts().sort_index(ascending=True).plot(kind='barh')\n",
    "        \n",
    "    return dia_ativo\n",
    "\n",
    "dia_arranque_motor = dia_semana_atividade(atividade='arranque_do_motor',df=df1)\n",
    "    \n",
    "display(dia_arranque_motor)\n",
    "    "
   ]
  },
  {
   "cell_type": "markdown",
   "metadata": {
    "colab": {
     "base_uri": "https://localhost:8080/"
    },
    "id": "Md-7s6At7nBy",
    "outputId": "3a889a06-56c9-472b-dd90-1b204a469cac"
   },
   "source": [
    "### quais os locais a maquina esteve desativada"
   ]
  },
  {
   "cell_type": "code",
   "execution_count": 113,
   "metadata": {
    "id": "Yl1_DgcFfRBl",
    "tags": []
   },
   "outputs": [
    {
     "data": {
      "text/html": [
       "<div>\n",
       "<style scoped>\n",
       "    .dataframe tbody tr th:only-of-type {\n",
       "        vertical-align: middle;\n",
       "    }\n",
       "\n",
       "    .dataframe tbody tr th {\n",
       "        vertical-align: top;\n",
       "    }\n",
       "\n",
       "    .dataframe thead th {\n",
       "        text-align: right;\n",
       "    }\n",
       "</style>\n",
       "<table border=\"1\" class=\"dataframe\">\n",
       "  <thead>\n",
       "    <tr style=\"text-align: right;\">\n",
       "      <th></th>\n",
       "      <th>data_hora</th>\n",
       "      <th>atividade</th>\n",
       "      <th>gps_ativo</th>\n",
       "      <th>hora</th>\n",
       "      <th>nome_dia</th>\n",
       "      <th>lat1</th>\n",
       "      <th>lon1</th>\n",
       "      <th>lat_lon</th>\n",
       "      <th>ativo</th>\n",
       "      <th>motor_ligado</th>\n",
       "    </tr>\n",
       "  </thead>\n",
       "  <tbody>\n",
       "    <tr>\n",
       "      <th>8328</th>\n",
       "      <td>2022-03-22 21:17:00</td>\n",
       "      <td>em_andamento</td>\n",
       "      <td>True</td>\n",
       "      <td>21</td>\n",
       "      <td>tuesday</td>\n",
       "      <td>-26.599313</td>\n",
       "      <td>-51.098192</td>\n",
       "      <td>-26.5993129|-51.0981924</td>\n",
       "      <td>1</td>\n",
       "      <td>1</td>\n",
       "    </tr>\n",
       "    <tr>\n",
       "      <th>8330</th>\n",
       "      <td>2022-03-22 21:23:00</td>\n",
       "      <td>chave_ligada</td>\n",
       "      <td>True</td>\n",
       "      <td>21</td>\n",
       "      <td>tuesday</td>\n",
       "      <td>-26.598181</td>\n",
       "      <td>-51.099778</td>\n",
       "      <td>-26.5981814|-51.0997779</td>\n",
       "      <td>1</td>\n",
       "      <td>1</td>\n",
       "    </tr>\n",
       "    <tr>\n",
       "      <th>8331</th>\n",
       "      <td>2022-03-22 21:23:00</td>\n",
       "      <td>arranque_do_motor</td>\n",
       "      <td>True</td>\n",
       "      <td>21</td>\n",
       "      <td>tuesday</td>\n",
       "      <td>-26.598181</td>\n",
       "      <td>-51.099776</td>\n",
       "      <td>-26.5981808|-51.0997759</td>\n",
       "      <td>1</td>\n",
       "      <td>1</td>\n",
       "    </tr>\n",
       "    <tr>\n",
       "      <th>8334</th>\n",
       "      <td>2022-03-22 21:28:00</td>\n",
       "      <td>chave_ligada</td>\n",
       "      <td>True</td>\n",
       "      <td>21</td>\n",
       "      <td>tuesday</td>\n",
       "      <td>-26.598221</td>\n",
       "      <td>-51.099657</td>\n",
       "      <td>-26.5982213|-51.0996574</td>\n",
       "      <td>1</td>\n",
       "      <td>1</td>\n",
       "    </tr>\n",
       "    <tr>\n",
       "      <th>8335</th>\n",
       "      <td>2022-03-22 21:31:00</td>\n",
       "      <td>arranque_do_motor</td>\n",
       "      <td>True</td>\n",
       "      <td>21</td>\n",
       "      <td>tuesday</td>\n",
       "      <td>-26.598219</td>\n",
       "      <td>-51.099653</td>\n",
       "      <td>-26.5982189|-51.0996526</td>\n",
       "      <td>1</td>\n",
       "      <td>1</td>\n",
       "    </tr>\n",
       "  </tbody>\n",
       "</table>\n",
       "</div>"
      ],
      "text/plain": [
       "               data_hora          atividade  gps_ativo  hora nome_dia  \\\n",
       "8328 2022-03-22 21:17:00       em_andamento       True    21  tuesday   \n",
       "8330 2022-03-22 21:23:00       chave_ligada       True    21  tuesday   \n",
       "8331 2022-03-22 21:23:00  arranque_do_motor       True    21  tuesday   \n",
       "8334 2022-03-22 21:28:00       chave_ligada       True    21  tuesday   \n",
       "8335 2022-03-22 21:31:00  arranque_do_motor       True    21  tuesday   \n",
       "\n",
       "           lat1       lon1                  lat_lon  ativo  motor_ligado  \n",
       "8328 -26.599313 -51.098192  -26.5993129|-51.0981924      1             1  \n",
       "8330 -26.598181 -51.099778  -26.5981814|-51.0997779      1             1  \n",
       "8331 -26.598181 -51.099776  -26.5981808|-51.0997759      1             1  \n",
       "8334 -26.598221 -51.099657  -26.5982213|-51.0996574      1             1  \n",
       "8335 -26.598219 -51.099653  -26.5982189|-51.0996526      1             1  "
      ]
     },
     "metadata": {},
     "output_type": "display_data"
    },
    {
     "data": {
      "text/plain": [
       "array(['-26.5993129|-51.0981924', '-26.5981814|-51.0997779',\n",
       "       '-26.5981808|-51.0997759', '-26.5982213|-51.0996574',\n",
       "       '-26.5982189|-51.0996526', '-26.5982728|-51.0996834',\n",
       "       '-26.5992188|-51.0995479', '-26.6028083|-51.0983979',\n",
       "       '-26.6025135|-51.0964879'], dtype=object)"
      ]
     },
     "metadata": {},
     "output_type": "display_data"
    },
    {
     "data": {
      "text/plain": [
       "9"
      ]
     },
     "metadata": {},
     "output_type": "display_data"
    }
   ],
   "source": [
    "df2 = df1.loc[(df1['hora'] > 20) | (df1['hora'] < 4)| (df1['motor_ligado'] ==0)]\n",
    "display(df2.head(5))\n",
    "unicos_lat_lon = df2['lat_lon'].unique()\n",
    "display(unicos_lat_lon)\n",
    "display(len(unicos_lat_lon))\n"
   ]
  },
  {
   "cell_type": "markdown",
   "metadata": {},
   "source": [
    "### Grafico de Posicionamento x,y\n",
    "Utilizando as coordenadas lat e lon e convertendo em um grafico de x,y para entender as regiões nas quais o equimamento esteve mais presente durante o periodo"
   ]
  },
  {
   "cell_type": "code",
   "execution_count": 114,
   "metadata": {
    "tags": []
   },
   "outputs": [
    {
     "data": {
      "text/plain": [
       "<Axes: xlabel='lon1', ylabel='lat1'>"
      ]
     },
     "execution_count": 114,
     "metadata": {},
     "output_type": "execute_result"
    },
    {
     "data": {
      "image/png": "[encoded data removed]",
      "text/plain": [
       "<Figure size 640x480 with 1 Axes>"
      ]
     },
     "metadata": {},
     "output_type": "display_data"
    }
   ],
   "source": [
    "df1.plot.scatter(x='lon',y='lat')#, marker='o', color='blue', s=50, alpha=0.5)\n",
    "\n",
    "# Add labels and title\n",
    "#plt.xlabel('Latitude')\n",
    "#plt.ylabel('Longitude')\n",
    "#plt.title('Scatter Plot of Latitude vs. Longitude')\n",
    "\n",
    "# Show the plot\n",
    "#plt.show()"
   ]
  },
  {
   "cell_type": "code",
   "execution_count": 115,
   "metadata": {
    "tags": []
   },
   "outputs": [
    {
     "data": {
      "text/plain": [
       "<Axes: xlabel='lat1', ylabel='lon1'>"
      ]
     },
     "execution_count": 115,
     "metadata": {},
     "output_type": "execute_result"
    },
    {
     "data": {
      "image/png": "[encoded data removed]",
      "text/plain": [
       "<Figure size 640x480 with 1 Axes>"
      ]
     },
     "metadata": {},
     "output_type": "display_data"
    }
   ],
   "source": [
    "df2.plot.scatter(x='lat', y='lon')#, marker='o', color='blue', s=50, alpha=0.5)"
   ]
  },
  {
   "cell_type": "markdown",
   "metadata": {},
   "source": [
    "### calcular a distancia a partir de pontos conhecidos\n"
   ]
  },
  {
   "cell_type": "code",
   "execution_count": 116,
   "metadata": {
    "tags": []
   },
   "outputs": [],
   "source": [
    "locais = [\n",
    "    {'nome':'cant_1','lat':-26.603245,'lon':-51.097630},\n",
    "    {'nome':'cant_2','lat':-26.600224,'lon':-51.098041},\n",
    "    {'nome':'posto_calmon','lat':-26.599158,'lon':-51.096548},\n",
    "    {'nome':'posto_mite','lat':-26.472965,'lon':-51.140994},\n",
    "    {'nome':'pedreira_denilson','lat':-26.487208,'lon':-51.125129},\n",
    "]"
   ]
  },
  {
   "cell_type": "code",
   "execution_count": null,
   "metadata": {},
   "outputs": [],
   "source": []
  }
 ],
 "metadata": {
  "colab": {
   "provenance": []
  },
  "kernelspec": {
   "display_name": "Python 3 (ipykernel)",
   "language": "python",
   "name": "python3"
  },
  "language_info": {
   "codemirror_mode": {
    "name": "ipython",
    "version": 3
   },
   "file_extension": ".py",
   "mimetype": "text/x-python",
   "name": "python",
   "nbconvert_exporter": "python",
   "pygments_lexer": "ipython3",
   "version": "3.11.4"
  },
  "toc-autonumbering": true,
  "toc-showmarkdowntxt": true,
  "toc-showtags": true
 },
 "nbformat": 4,
 "nbformat_minor": 4
}
