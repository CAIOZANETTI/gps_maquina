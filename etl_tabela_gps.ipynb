{
<<<<<<< HEAD
 "cells": [
  {
   "cell_type": "markdown",
   "metadata": {
    "id": "l-Oi22_sNLmY"
   },
   "source": [
    "\n",
    "ELT GPS Retroescavadeira\n",
    "Nestre exemplo os dados coletados em 2022 fornecidos pelo gps da retroscavadeira JCB 3CX, foram armazenados em um unico arquivo em formato de gsheet. Este estudo tem por finalidade **obter informação** utilizando tecnica da engenharia de dados"
   ]
  },
  {
   "cell_type": "code",
   "execution_count": 1,
   "metadata": {
    "id": "Todx_eCR7L9I",
    "tags": []
   },
   "outputs": [],
   "source": [
    "import pandas as pd\n",
    "import matplotlib as plt"
   ]
  },
  {
   "cell_type": "code",
   "execution_count": 6,
   "metadata": {
    "id": "hS9OutuO8iq5",
    "tags": []
   },
   "outputs": [],
   "source": [
    "import extrair as extrair\n",
    "import funcoes_gps as funcoes_gps"
   ]
  },
  {
   "cell_type": "code",
   "execution_count": 7,
   "metadata": {
    "colab": {
     "base_uri": "https://localhost:8080/",
     "height": 258
    },
    "id": "1_tPt-g28sy1",
    "outputId": "c2ddd7b4-8f06-4de6-8018-d1236600b02a",
    "tags": []
   },
   "outputs": [
    {
     "ename": "AttributeError",
     "evalue": "module 'extrair' has no attribute 'json_to_dic'",
     "output_type": "error",
     "traceback": [
      "\u001b[1;31m---------------------------------------------------------------------------\u001b[0m",
      "\u001b[1;31mAttributeError\u001b[0m                            Traceback (most recent call last)",
      "Cell \u001b[1;32mIn[7], line 2\u001b[0m\n\u001b[0;32m      1\u001b[0m json_file_path \u001b[38;5;241m=\u001b[39m \u001b[38;5;124m'\u001b[39m\u001b[38;5;124m/content/produtividade_maquina/variaveis.json\u001b[39m\u001b[38;5;124m'\u001b[39m\n\u001b[1;32m----> 2\u001b[0m dic \u001b[38;5;241m=\u001b[39m extrair\u001b[38;5;241m.\u001b[39mjson_to_dic(json_file_path)\n\u001b[0;32m      4\u001b[0m display(display(dic[\u001b[38;5;124m'\u001b[39m\u001b[38;5;124mgsheet\u001b[39m\u001b[38;5;124m'\u001b[39m][\u001b[38;5;124m'\u001b[39m\u001b[38;5;124mjcb_relatorio_amostra\u001b[39m\u001b[38;5;124m'\u001b[39m]))\n\u001b[0;32m      6\u001b[0m df \u001b[38;5;241m=\u001b[39m extrair\u001b[38;5;241m.\u001b[39mgsheet_to_df(\n\u001b[0;32m      7\u001b[0m     \u001b[38;5;28mid\u001b[39m\u001b[38;5;241m=\u001b[39mdic[\u001b[38;5;124m'\u001b[39m\u001b[38;5;124mgsheet\u001b[39m\u001b[38;5;124m'\u001b[39m][\u001b[38;5;124m'\u001b[39m\u001b[38;5;124mjcb_relatorio_2022\u001b[39m\u001b[38;5;124m'\u001b[39m][\u001b[38;5;124m'\u001b[39m\u001b[38;5;124mid\u001b[39m\u001b[38;5;124m'\u001b[39m],\n\u001b[0;32m      8\u001b[0m     tabela\u001b[38;5;241m=\u001b[39mdic[\u001b[38;5;124m'\u001b[39m\u001b[38;5;124mgsheet\u001b[39m\u001b[38;5;124m'\u001b[39m][\u001b[38;5;124m'\u001b[39m\u001b[38;5;124mjcb_relatorio_amostra\u001b[39m\u001b[38;5;124m'\u001b[39m][\u001b[38;5;124m'\u001b[39m\u001b[38;5;124mtabela\u001b[39m\u001b[38;5;124m'\u001b[39m],\n\u001b[0;32m      9\u001b[0m     testar\u001b[38;5;241m=\u001b[39m\u001b[38;5;28;01mFalse\u001b[39;00m\n\u001b[0;32m     10\u001b[0m )\n",
      "\u001b[1;31mAttributeError\u001b[0m: module 'extrair' has no attribute 'json_to_dic'"
     ]
    }
   ],
   "source": [
    "json_file_path = '/content/produtividade_maquina/variaveis.json'\n",
    "dic = extrair.json_to_dic(json_file_path)\n",
    "\n",
    "display(display(dic['gsheet']['jcb_relatorio_amostra']))\n",
    "\n",
    "df = extrair.gsheet_to_df(\n",
    "    id=dic['gsheet']['jcb_relatorio_2022']['id'],\n",
    "    tabela=dic['gsheet']['jcb_relatorio_amostra']['tabela'],\n",
    "    testar=False\n",
    ")\n",
    "display(df.head(5))"
   ]
  },
  {
   "cell_type": "code",
   "execution_count": 5,
   "metadata": {
    "id": "kSf_g4246PWd"
   },
   "outputs": [],
   "source": [
    "# @title 3) dataframe - > parquet { form-width: \"30%\", display-mode: \"form\" }\n",
    "df_to_parquet = False # @param [\"False\", \"True\"] {type:\"raw\"}\n",
    "\n",
    "if df_to_parquet==True:\n",
    "  # parquet is better format\n",
    "  df.to_parquet('bronze_jcb_relatorio_2022.parquet')\n"
   ]
  },
  {
   "cell_type": "code",
   "execution_count": 6,
   "metadata": {
    "colab": {
     "base_uri": "https://localhost:8080/",
     "height": 206
    },
    "id": "HdluprV__b3c",
    "outputId": "b1e92f2c-8f79-41bf-f000-df09040ec851"
   },
   "outputs": [
    {
     "data": {
      "text/html": [
       "\n",
       "  <div id=\"df-9d7c3044-c489-43f9-9575-18e8b0e4fcba\" class=\"colab-df-container\">\n",
       "    <div>\n",
       "<style scoped>\n",
       "    .dataframe tbody tr th:only-of-type {\n",
       "        vertical-align: middle;\n",
       "    }\n",
       "\n",
       "    .dataframe tbody tr th {\n",
       "        vertical-align: top;\n",
       "    }\n",
       "\n",
       "    .dataframe thead th {\n",
       "        text-align: right;\n",
       "    }\n",
       "</style>\n",
       "<table border=\"1\" class=\"dataframe\">\n",
       "  <thead>\n",
       "    <tr style=\"text-align: right;\">\n",
       "      <th></th>\n",
       "      <th>data_hora</th>\n",
       "      <th>atividade</th>\n",
       "      <th>gps_ativo</th>\n",
       "      <th>hora</th>\n",
       "      <th>nome_dia</th>\n",
       "      <th>lat1</th>\n",
       "      <th>lon1</th>\n",
       "      <th>lat_lon</th>\n",
       "    </tr>\n",
       "  </thead>\n",
       "  <tbody>\n",
       "    <tr>\n",
       "      <th>0</th>\n",
       "      <td>2022-01-01 11:56:00</td>\n",
       "      <td>Estado Activo</td>\n",
       "      <td>False</td>\n",
       "      <td>11</td>\n",
       "      <td>saturday</td>\n",
       "      <td>-25.570758</td>\n",
       "      <td>-49.196145</td>\n",
       "      <td>-25.5707582|-49.1961449</td>\n",
       "    </tr>\n",
       "    <tr>\n",
       "      <th>1</th>\n",
       "      <td>2022-01-01 11:56:00</td>\n",
       "      <td>Ligado</td>\n",
       "      <td>False</td>\n",
       "      <td>11</td>\n",
       "      <td>saturday</td>\n",
       "      <td>-25.570758</td>\n",
       "      <td>-49.196145</td>\n",
       "      <td>-25.5707582|-49.1961449</td>\n",
       "    </tr>\n",
       "    <tr>\n",
       "      <th>2</th>\n",
       "      <td>2022-01-01 11:58:00</td>\n",
       "      <td>GSM Diagnostics-pt</td>\n",
       "      <td>False</td>\n",
       "      <td>11</td>\n",
       "      <td>saturday</td>\n",
       "      <td>-25.570758</td>\n",
       "      <td>-49.196145</td>\n",
       "      <td>-25.5707582|-49.1961449</td>\n",
       "    </tr>\n",
       "    <tr>\n",
       "      <th>3</th>\n",
       "      <td>2022-01-01 11:58:00</td>\n",
       "      <td>Primeiro Acerto do GPS</td>\n",
       "      <td>True</td>\n",
       "      <td>11</td>\n",
       "      <td>saturday</td>\n",
       "      <td>-25.570797</td>\n",
       "      <td>-49.196098</td>\n",
       "      <td>-25.5707972|-49.1960976</td>\n",
       "    </tr>\n",
       "    <tr>\n",
       "      <th>4</th>\n",
       "      <td>2022-01-01 11:59:00</td>\n",
       "      <td>GSM Diagnostics-pt</td>\n",
       "      <td>True</td>\n",
       "      <td>11</td>\n",
       "      <td>saturday</td>\n",
       "      <td>-25.570803</td>\n",
       "      <td>-49.196095</td>\n",
       "      <td>-25.5708027|-49.1960953</td>\n",
       "    </tr>\n",
       "  </tbody>\n",
       "</table>\n",
       "</div>\n",
       "    <div class=\"colab-df-buttons\">\n",
       "\n",
       "  <div class=\"colab-df-container\">\n",
       "    <button class=\"colab-df-convert\" onclick=\"convertToInteractive('df-9d7c3044-c489-43f9-9575-18e8b0e4fcba')\"\n",
       "            title=\"Convert this dataframe to an interactive table.\"\n",
       "            style=\"display:none;\">\n",
       "\n",
       "  <svg xmlns=\"http://www.w3.org/2000/svg\" height=\"24px\" viewBox=\"0 -960 960 960\">\n",
       "    <path d=\"M120-120v-720h720v720H120Zm60-500h600v-160H180v160Zm220 220h160v-160H400v160Zm0 220h160v-160H400v160ZM180-400h160v-160H180v160Zm440 0h160v-160H620v160ZM180-180h160v-160H180v160Zm440 0h160v-160H620v160Z\"/>\n",
       "  </svg>\n",
       "    </button>\n",
       "\n",
       "  <style>\n",
       "    .colab-df-container {\n",
       "      display:flex;\n",
       "      gap: 12px;\n",
       "    }\n",
       "\n",
       "    .colab-df-convert {\n",
       "      background-color: #E8F0FE;\n",
       "      border: none;\n",
       "      border-radius: 50%;\n",
       "      cursor: pointer;\n",
       "      display: none;\n",
       "      fill: #1967D2;\n",
       "      height: 32px;\n",
       "      padding: 0 0 0 0;\n",
       "      width: 32px;\n",
       "    }\n",
       "\n",
       "    .colab-df-convert:hover {\n",
       "      background-color: #E2EBFA;\n",
       "      box-shadow: 0px 1px 2px rgba(60, 64, 67, 0.3), 0px 1px 3px 1px rgba(60, 64, 67, 0.15);\n",
       "      fill: #174EA6;\n",
       "    }\n",
       "\n",
       "    .colab-df-buttons div {\n",
       "      margin-bottom: 4px;\n",
       "    }\n",
       "\n",
       "    [theme=dark] .colab-df-convert {\n",
       "      background-color: #3B4455;\n",
       "      fill: #D2E3FC;\n",
       "    }\n",
       "\n",
       "    [theme=dark] .colab-df-convert:hover {\n",
       "      background-color: #434B5C;\n",
       "      box-shadow: 0px 1px 3px 1px rgba(0, 0, 0, 0.15);\n",
       "      filter: drop-shadow(0px 1px 2px rgba(0, 0, 0, 0.3));\n",
       "      fill: #FFFFFF;\n",
       "    }\n",
       "  </style>\n",
       "\n",
       "    <script>\n",
       "      const buttonEl =\n",
       "        document.querySelector('#df-9d7c3044-c489-43f9-9575-18e8b0e4fcba button.colab-df-convert');\n",
       "      buttonEl.style.display =\n",
       "        google.colab.kernel.accessAllowed ? 'block' : 'none';\n",
       "\n",
       "      async function convertToInteractive(key) {\n",
       "        const element = document.querySelector('#df-9d7c3044-c489-43f9-9575-18e8b0e4fcba');\n",
       "        const dataTable =\n",
       "          await google.colab.kernel.invokeFunction('convertToInteractive',\n",
       "                                                    [key], {});\n",
       "        if (!dataTable) return;\n",
       "\n",
       "        const docLinkHtml = 'Like what you see? Visit the ' +\n",
       "          '<a target=\"_blank\" href=https://colab.research.google.com/notebooks/data_table.ipynb>data table notebook</a>'\n",
       "          + ' to learn more about interactive tables.';\n",
       "        element.innerHTML = '';\n",
       "        dataTable['output_type'] = 'display_data';\n",
       "        await google.colab.output.renderOutput(dataTable, element);\n",
       "        const docLink = document.createElement('div');\n",
       "        docLink.innerHTML = docLinkHtml;\n",
       "        element.appendChild(docLink);\n",
       "      }\n",
       "    </script>\n",
       "  </div>\n",
       "\n",
       "\n",
       "<div id=\"df-afbca173-f65c-4ddf-8f3c-8283ab3a56bc\">\n",
       "  <button class=\"colab-df-quickchart\" onclick=\"quickchart('df-afbca173-f65c-4ddf-8f3c-8283ab3a56bc')\"\n",
       "            title=\"Suggest charts.\"\n",
       "            style=\"display:none;\">\n",
       "\n",
       "<svg xmlns=\"http://www.w3.org/2000/svg\" height=\"24px\"viewBox=\"0 0 24 24\"\n",
       "     width=\"24px\">\n",
       "    <g>\n",
       "        <path d=\"M19 3H5c-1.1 0-2 .9-2 2v14c0 1.1.9 2 2 2h14c1.1 0 2-.9 2-2V5c0-1.1-.9-2-2-2zM9 17H7v-7h2v7zm4 0h-2V7h2v10zm4 0h-2v-4h2v4z\"/>\n",
       "    </g>\n",
       "</svg>\n",
       "  </button>\n",
       "\n",
       "<style>\n",
       "  .colab-df-quickchart {\n",
       "      --bg-color: #E8F0FE;\n",
       "      --fill-color: #1967D2;\n",
       "      --hover-bg-color: #E2EBFA;\n",
       "      --hover-fill-color: #174EA6;\n",
       "      --disabled-fill-color: #AAA;\n",
       "      --disabled-bg-color: #DDD;\n",
       "  }\n",
       "\n",
       "  [theme=dark] .colab-df-quickchart {\n",
       "      --bg-color: #3B4455;\n",
       "      --fill-color: #D2E3FC;\n",
       "      --hover-bg-color: #434B5C;\n",
       "      --hover-fill-color: #FFFFFF;\n",
       "      --disabled-bg-color: #3B4455;\n",
       "      --disabled-fill-color: #666;\n",
       "  }\n",
       "\n",
       "  .colab-df-quickchart {\n",
       "    background-color: var(--bg-color);\n",
       "    border: none;\n",
       "    border-radius: 50%;\n",
       "    cursor: pointer;\n",
       "    display: none;\n",
       "    fill: var(--fill-color);\n",
       "    height: 32px;\n",
       "    padding: 0;\n",
       "    width: 32px;\n",
       "  }\n",
       "\n",
       "  .colab-df-quickchart:hover {\n",
       "    background-color: var(--hover-bg-color);\n",
       "    box-shadow: 0 1px 2px rgba(60, 64, 67, 0.3), 0 1px 3px 1px rgba(60, 64, 67, 0.15);\n",
       "    fill: var(--button-hover-fill-color);\n",
       "  }\n",
       "\n",
       "  .colab-df-quickchart-complete:disabled,\n",
       "  .colab-df-quickchart-complete:disabled:hover {\n",
       "    background-color: var(--disabled-bg-color);\n",
       "    fill: var(--disabled-fill-color);\n",
       "    box-shadow: none;\n",
       "  }\n",
       "\n",
       "  .colab-df-spinner {\n",
       "    border: 2px solid var(--fill-color);\n",
       "    border-color: transparent;\n",
       "    border-bottom-color: var(--fill-color);\n",
       "    animation:\n",
       "      spin 1s steps(1) infinite;\n",
       "  }\n",
       "\n",
       "  @keyframes spin {\n",
       "    0% {\n",
       "      border-color: transparent;\n",
       "      border-bottom-color: var(--fill-color);\n",
       "      border-left-color: var(--fill-color);\n",
       "    }\n",
       "    20% {\n",
       "      border-color: transparent;\n",
       "      border-left-color: var(--fill-color);\n",
       "      border-top-color: var(--fill-color);\n",
       "    }\n",
       "    30% {\n",
       "      border-color: transparent;\n",
       "      border-left-color: var(--fill-color);\n",
       "      border-top-color: var(--fill-color);\n",
       "      border-right-color: var(--fill-color);\n",
       "    }\n",
       "    40% {\n",
       "      border-color: transparent;\n",
       "      border-right-color: var(--fill-color);\n",
       "      border-top-color: var(--fill-color);\n",
       "    }\n",
       "    60% {\n",
       "      border-color: transparent;\n",
       "      border-right-color: var(--fill-color);\n",
       "    }\n",
       "    80% {\n",
       "      border-color: transparent;\n",
       "      border-right-color: var(--fill-color);\n",
       "      border-bottom-color: var(--fill-color);\n",
       "    }\n",
       "    90% {\n",
       "      border-color: transparent;\n",
       "      border-bottom-color: var(--fill-color);\n",
       "    }\n",
       "  }\n",
       "</style>\n",
       "\n",
       "  <script>\n",
       "    async function quickchart(key) {\n",
       "      const quickchartButtonEl =\n",
       "        document.querySelector('#' + key + ' button');\n",
       "      quickchartButtonEl.disabled = true;  // To prevent multiple clicks.\n",
       "      quickchartButtonEl.classList.add('colab-df-spinner');\n",
       "      try {\n",
       "        const charts = await google.colab.kernel.invokeFunction(\n",
       "            'suggestCharts', [key], {});\n",
       "      } catch (error) {\n",
       "        console.error('Error during call to suggestCharts:', error);\n",
       "      }\n",
       "      quickchartButtonEl.classList.remove('colab-df-spinner');\n",
       "      quickchartButtonEl.classList.add('colab-df-quickchart-complete');\n",
       "    }\n",
       "    (() => {\n",
       "      let quickchartButtonEl =\n",
       "        document.querySelector('#df-afbca173-f65c-4ddf-8f3c-8283ab3a56bc button');\n",
       "      quickchartButtonEl.style.display =\n",
       "        google.colab.kernel.accessAllowed ? 'block' : 'none';\n",
       "    })();\n",
       "  </script>\n",
       "</div>\n",
       "    </div>\n",
       "  </div>\n"
      ],
      "text/plain": [
       "            data_hora               atividade  gps_ativo  hora  nome_dia  \\\n",
       "0 2022-01-01 11:56:00           Estado Activo      False    11  saturday   \n",
       "1 2022-01-01 11:56:00                  Ligado      False    11  saturday   \n",
       "2 2022-01-01 11:58:00      GSM Diagnostics-pt      False    11  saturday   \n",
       "3 2022-01-01 11:58:00  Primeiro Acerto do GPS       True    11  saturday   \n",
       "4 2022-01-01 11:59:00      GSM Diagnostics-pt       True    11  saturday   \n",
       "\n",
       "        lat1       lon1                  lat_lon  \n",
       "0 -25.570758 -49.196145  -25.5707582|-49.1961449  \n",
       "1 -25.570758 -49.196145  -25.5707582|-49.1961449  \n",
       "2 -25.570758 -49.196145  -25.5707582|-49.1961449  \n",
       "3 -25.570797 -49.196098  -25.5707972|-49.1960976  \n",
       "4 -25.570803 -49.196095  -25.5708027|-49.1960953  "
      ]
     },
     "metadata": {},
     "output_type": "display_data"
    }
   ],
   "source": [
    "\n",
    "# @title 5) converter dataframe bronze to silver { form-width: \"30%\", display-mode: \"code\" }\n",
    "#todo criar funçoes etl.py !!\n",
    "def df_silver_a(remover_colunas:list,df)->pd.DataFrame:\n",
    "  \"\"\"\n",
    "\tconverter: data, hora e latitude e longitude\n",
    "\tobter colual: hora, nome_dia,lat_lon\n",
    "  \"\"\"\n",
    "  df['data_hora'] = pd.to_datetime(df['data_hora'], format='%m/%d/%Y %H:%M:%S')\n",
    "  df['hora'] = df['data_hora'].dt.hour\n",
    "  df['nome_dia'] = df['data_hora'].dt.day_name().str.lower()\n",
    "\n",
    "  df['lat1'], df['lon1'] = zip(*df['maps_google_url'].apply(funcoes_gps.url_to_coordenadas))\n",
    "  df['lat_lon'] = df['lat1'].astype(str) + '|' + df['lon1'].astype(str)\n",
    "\n",
    "  #converter colunas em string\n",
    "  colunas_str ={'nome_dia': 'string','lat_lon':'string','atividade':'string'}\n",
    "  df.astype(colunas_str).dtypes\n",
    "\n",
    "  #remover colunas\n",
    "  for coluna in remover_colunas:\n",
    "    if coluna in df.columns:\n",
    "      df = df.drop(coluna,axis=1)\n",
    "\n",
    "  return df\n",
    "\n",
    "remover_colunas = ['id','hyperlink','maps_google_url']\n",
    "df1 = df_silver_a(df=df,remover_colunas=remover_colunas)\n",
    "\n",
    "display(df1.head(5))"
   ]
  },
  {
   "cell_type": "code",
   "execution_count": 7,
   "metadata": {
    "colab": {
     "base_uri": "https://localhost:8080/",
     "height": 677
    },
    "id": "AmhEAeNpmCgk",
    "outputId": "c485514b-7d16-44db-c34e-d50f00c8b079"
   },
   "outputs": [
    {
     "data": {
      "text/html": [
       "\n",
       "  <div id=\"df-9bab10de-ceaf-4fc6-b761-cbff0fa7dffe\" class=\"colab-df-container\">\n",
       "    <div>\n",
       "<style scoped>\n",
       "    .dataframe tbody tr th:only-of-type {\n",
       "        vertical-align: middle;\n",
       "    }\n",
       "\n",
       "    .dataframe tbody tr th {\n",
       "        vertical-align: top;\n",
       "    }\n",
       "\n",
       "    .dataframe thead th {\n",
       "        text-align: right;\n",
       "    }\n",
       "</style>\n",
       "<table border=\"1\" class=\"dataframe\">\n",
       "  <thead>\n",
       "    <tr style=\"text-align: right;\">\n",
       "      <th></th>\n",
       "      <th>data_hora</th>\n",
       "      <th>atividade</th>\n",
       "      <th>gps_ativo</th>\n",
       "      <th>hora</th>\n",
       "      <th>nome_dia</th>\n",
       "      <th>lat1</th>\n",
       "      <th>lon1</th>\n",
       "      <th>lat_lon</th>\n",
       "    </tr>\n",
       "  </thead>\n",
       "  <tbody>\n",
       "    <tr>\n",
       "      <th>0</th>\n",
       "      <td>2022-01-01 11:56:00</td>\n",
       "      <td>estado_activo</td>\n",
       "      <td>False</td>\n",
       "      <td>11</td>\n",
       "      <td>saturday</td>\n",
       "      <td>-25.570758</td>\n",
       "      <td>-49.196145</td>\n",
       "      <td>-25.5707582|-49.1961449</td>\n",
       "    </tr>\n",
       "    <tr>\n",
       "      <th>1</th>\n",
       "      <td>2022-01-01 11:56:00</td>\n",
       "      <td>ligado</td>\n",
       "      <td>False</td>\n",
       "      <td>11</td>\n",
       "      <td>saturday</td>\n",
       "      <td>-25.570758</td>\n",
       "      <td>-49.196145</td>\n",
       "      <td>-25.5707582|-49.1961449</td>\n",
       "    </tr>\n",
       "    <tr>\n",
       "      <th>2</th>\n",
       "      <td>2022-01-01 11:58:00</td>\n",
       "      <td>gsm_diagnostics-pt</td>\n",
       "      <td>False</td>\n",
       "      <td>11</td>\n",
       "      <td>saturday</td>\n",
       "      <td>-25.570758</td>\n",
       "      <td>-49.196145</td>\n",
       "      <td>-25.5707582|-49.1961449</td>\n",
       "    </tr>\n",
       "    <tr>\n",
       "      <th>3</th>\n",
       "      <td>2022-01-01 11:58:00</td>\n",
       "      <td>primeiro_acerto_do_gps</td>\n",
       "      <td>True</td>\n",
       "      <td>11</td>\n",
       "      <td>saturday</td>\n",
       "      <td>-25.570797</td>\n",
       "      <td>-49.196098</td>\n",
       "      <td>-25.5707972|-49.1960976</td>\n",
       "    </tr>\n",
       "    <tr>\n",
       "      <th>4</th>\n",
       "      <td>2022-01-01 11:59:00</td>\n",
       "      <td>gsm_diagnostics-pt</td>\n",
       "      <td>True</td>\n",
       "      <td>11</td>\n",
       "      <td>saturday</td>\n",
       "      <td>-25.570803</td>\n",
       "      <td>-49.196095</td>\n",
       "      <td>-25.5708027|-49.1960953</td>\n",
       "    </tr>\n",
       "    <tr>\n",
       "      <th>5</th>\n",
       "      <td>2022-01-01 12:02:00</td>\n",
       "      <td>gsm_diagnostics-pt</td>\n",
       "      <td>True</td>\n",
       "      <td>12</td>\n",
       "      <td>saturday</td>\n",
       "      <td>-25.570787</td>\n",
       "      <td>-49.196094</td>\n",
       "      <td>-25.5707872|-49.1960944</td>\n",
       "    </tr>\n",
       "    <tr>\n",
       "      <th>6</th>\n",
       "      <td>2022-01-01 12:07:00</td>\n",
       "      <td>gsm_diagnostics-pt</td>\n",
       "      <td>True</td>\n",
       "      <td>12</td>\n",
       "      <td>saturday</td>\n",
       "      <td>-25.570775</td>\n",
       "      <td>-49.196099</td>\n",
       "      <td>-25.5707746|-49.1960989</td>\n",
       "    </tr>\n",
       "    <tr>\n",
       "      <th>7</th>\n",
       "      <td>2022-01-01 12:07:00</td>\n",
       "      <td>gsm_diagnostics-pt</td>\n",
       "      <td>True</td>\n",
       "      <td>12</td>\n",
       "      <td>saturday</td>\n",
       "      <td>-25.570774</td>\n",
       "      <td>-49.196099</td>\n",
       "      <td>-25.5707744|-49.1960991</td>\n",
       "    </tr>\n",
       "    <tr>\n",
       "      <th>8</th>\n",
       "      <td>2022-01-01 12:11:00</td>\n",
       "      <td>gsm_diagnostics-pt</td>\n",
       "      <td>True</td>\n",
       "      <td>12</td>\n",
       "      <td>saturday</td>\n",
       "      <td>-25.570741</td>\n",
       "      <td>-49.196129</td>\n",
       "      <td>-25.5707411|-49.1961288</td>\n",
       "    </tr>\n",
       "    <tr>\n",
       "      <th>9</th>\n",
       "      <td>2022-01-01 12:12:00</td>\n",
       "      <td>gsm_diagnostics-pt</td>\n",
       "      <td>True</td>\n",
       "      <td>12</td>\n",
       "      <td>saturday</td>\n",
       "      <td>-25.570741</td>\n",
       "      <td>-49.196129</td>\n",
       "      <td>-25.5707411|-49.1961289</td>\n",
       "    </tr>\n",
       "    <tr>\n",
       "      <th>10</th>\n",
       "      <td>2022-01-01 12:12:00</td>\n",
       "      <td>gsm_diagnostics-pt</td>\n",
       "      <td>True</td>\n",
       "      <td>12</td>\n",
       "      <td>saturday</td>\n",
       "      <td>-25.570741</td>\n",
       "      <td>-49.196129</td>\n",
       "      <td>-25.5707411|-49.1961289</td>\n",
       "    </tr>\n",
       "    <tr>\n",
       "      <th>11</th>\n",
       "      <td>2022-01-01 12:24:00</td>\n",
       "      <td>gsm_diagnostics-pt</td>\n",
       "      <td>True</td>\n",
       "      <td>12</td>\n",
       "      <td>saturday</td>\n",
       "      <td>-25.570751</td>\n",
       "      <td>-49.196129</td>\n",
       "      <td>-25.5707509|-49.1961286</td>\n",
       "    </tr>\n",
       "    <tr>\n",
       "      <th>12</th>\n",
       "      <td>2022-01-01 12:26:00</td>\n",
       "      <td>gsm_diagnostics-pt</td>\n",
       "      <td>True</td>\n",
       "      <td>12</td>\n",
       "      <td>saturday</td>\n",
       "      <td>-25.570749</td>\n",
       "      <td>-49.196110</td>\n",
       "      <td>-25.5707487|-49.1961096</td>\n",
       "    </tr>\n",
       "    <tr>\n",
       "      <th>13</th>\n",
       "      <td>2022-01-01 12:27:00</td>\n",
       "      <td>gsm_diagnostics-pt</td>\n",
       "      <td>True</td>\n",
       "      <td>12</td>\n",
       "      <td>saturday</td>\n",
       "      <td>-25.570749</td>\n",
       "      <td>-49.196110</td>\n",
       "      <td>-25.5707492|-49.1961101</td>\n",
       "    </tr>\n",
       "    <tr>\n",
       "      <th>14</th>\n",
       "      <td>2022-01-01 12:39:00</td>\n",
       "      <td>gsm_diagnostics-pt</td>\n",
       "      <td>True</td>\n",
       "      <td>12</td>\n",
       "      <td>saturday</td>\n",
       "      <td>-25.570769</td>\n",
       "      <td>-49.196107</td>\n",
       "      <td>-25.5707689|-49.1961071</td>\n",
       "    </tr>\n",
       "    <tr>\n",
       "      <th>15</th>\n",
       "      <td>2022-01-01 12:40:00</td>\n",
       "      <td>gsm_diagnostics-pt</td>\n",
       "      <td>True</td>\n",
       "      <td>12</td>\n",
       "      <td>saturday</td>\n",
       "      <td>-25.570782</td>\n",
       "      <td>-49.196111</td>\n",
       "      <td>-25.5707822|-49.1961108</td>\n",
       "    </tr>\n",
       "    <tr>\n",
       "      <th>16</th>\n",
       "      <td>2022-01-01 12:42:00</td>\n",
       "      <td>gsm_diagnostics-pt</td>\n",
       "      <td>True</td>\n",
       "      <td>12</td>\n",
       "      <td>saturday</td>\n",
       "      <td>-25.570782</td>\n",
       "      <td>-49.196109</td>\n",
       "      <td>-25.5707824|-49.1961094</td>\n",
       "    </tr>\n",
       "    <tr>\n",
       "      <th>17</th>\n",
       "      <td>2022-01-01 12:53:00</td>\n",
       "      <td>gsm_diagnostics-pt</td>\n",
       "      <td>True</td>\n",
       "      <td>12</td>\n",
       "      <td>saturday</td>\n",
       "      <td>-25.570784</td>\n",
       "      <td>-49.196111</td>\n",
       "      <td>-25.5707836|-49.1961108</td>\n",
       "    </tr>\n",
       "    <tr>\n",
       "      <th>18</th>\n",
       "      <td>2022-01-01 12:55:00</td>\n",
       "      <td>gsm_diagnostics-pt</td>\n",
       "      <td>True</td>\n",
       "      <td>12</td>\n",
       "      <td>saturday</td>\n",
       "      <td>-25.570770</td>\n",
       "      <td>-49.196085</td>\n",
       "      <td>-25.5707702|-49.1960848</td>\n",
       "    </tr>\n",
       "    <tr>\n",
       "      <th>19</th>\n",
       "      <td>2022-01-01 12:56:00</td>\n",
       "      <td>prestes_a_entrar_em_estado_de_descanso</td>\n",
       "      <td>True</td>\n",
       "      <td>12</td>\n",
       "      <td>saturday</td>\n",
       "      <td>-25.570774</td>\n",
       "      <td>-49.196087</td>\n",
       "      <td>-25.5707737|-49.1960868</td>\n",
       "    </tr>\n",
       "  </tbody>\n",
       "</table>\n",
       "</div>\n",
       "    <div class=\"colab-df-buttons\">\n",
       "\n",
       "  <div class=\"colab-df-container\">\n",
       "    <button class=\"colab-df-convert\" onclick=\"convertToInteractive('df-9bab10de-ceaf-4fc6-b761-cbff0fa7dffe')\"\n",
       "            title=\"Convert this dataframe to an interactive table.\"\n",
       "            style=\"display:none;\">\n",
       "\n",
       "  <svg xmlns=\"http://www.w3.org/2000/svg\" height=\"24px\" viewBox=\"0 -960 960 960\">\n",
       "    <path d=\"M120-120v-720h720v720H120Zm60-500h600v-160H180v160Zm220 220h160v-160H400v160Zm0 220h160v-160H400v160ZM180-400h160v-160H180v160Zm440 0h160v-160H620v160ZM180-180h160v-160H180v160Zm440 0h160v-160H620v160Z\"/>\n",
       "  </svg>\n",
       "    </button>\n",
       "\n",
       "  <style>\n",
       "    .colab-df-container {\n",
       "      display:flex;\n",
       "      gap: 12px;\n",
       "    }\n",
       "\n",
       "    .colab-df-convert {\n",
       "      background-color: #E8F0FE;\n",
       "      border: none;\n",
       "      border-radius: 50%;\n",
       "      cursor: pointer;\n",
       "      display: none;\n",
       "      fill: #1967D2;\n",
       "      height: 32px;\n",
       "      padding: 0 0 0 0;\n",
       "      width: 32px;\n",
       "    }\n",
       "\n",
       "    .colab-df-convert:hover {\n",
       "      background-color: #E2EBFA;\n",
       "      box-shadow: 0px 1px 2px rgba(60, 64, 67, 0.3), 0px 1px 3px 1px rgba(60, 64, 67, 0.15);\n",
       "      fill: #174EA6;\n",
       "    }\n",
       "\n",
       "    .colab-df-buttons div {\n",
       "      margin-bottom: 4px;\n",
       "    }\n",
       "\n",
       "    [theme=dark] .colab-df-convert {\n",
       "      background-color: #3B4455;\n",
       "      fill: #D2E3FC;\n",
       "    }\n",
       "\n",
       "    [theme=dark] .colab-df-convert:hover {\n",
       "      background-color: #434B5C;\n",
       "      box-shadow: 0px 1px 3px 1px rgba(0, 0, 0, 0.15);\n",
       "      filter: drop-shadow(0px 1px 2px rgba(0, 0, 0, 0.3));\n",
       "      fill: #FFFFFF;\n",
       "    }\n",
       "  </style>\n",
       "\n",
       "    <script>\n",
       "      const buttonEl =\n",
       "        document.querySelector('#df-9bab10de-ceaf-4fc6-b761-cbff0fa7dffe button.colab-df-convert');\n",
       "      buttonEl.style.display =\n",
       "        google.colab.kernel.accessAllowed ? 'block' : 'none';\n",
       "\n",
       "      async function convertToInteractive(key) {\n",
       "        const element = document.querySelector('#df-9bab10de-ceaf-4fc6-b761-cbff0fa7dffe');\n",
       "        const dataTable =\n",
       "          await google.colab.kernel.invokeFunction('convertToInteractive',\n",
       "                                                    [key], {});\n",
       "        if (!dataTable) return;\n",
       "\n",
       "        const docLinkHtml = 'Like what you see? Visit the ' +\n",
       "          '<a target=\"_blank\" href=https://colab.research.google.com/notebooks/data_table.ipynb>data table notebook</a>'\n",
       "          + ' to learn more about interactive tables.';\n",
       "        element.innerHTML = '';\n",
       "        dataTable['output_type'] = 'display_data';\n",
       "        await google.colab.output.renderOutput(dataTable, element);\n",
       "        const docLink = document.createElement('div');\n",
       "        docLink.innerHTML = docLinkHtml;\n",
       "        element.appendChild(docLink);\n",
       "      }\n",
       "    </script>\n",
       "  </div>\n",
       "\n",
       "\n",
       "<div id=\"df-0b92363b-bbf6-4862-a6f8-b111ea8febc4\">\n",
       "  <button class=\"colab-df-quickchart\" onclick=\"quickchart('df-0b92363b-bbf6-4862-a6f8-b111ea8febc4')\"\n",
       "            title=\"Suggest charts.\"\n",
       "            style=\"display:none;\">\n",
       "\n",
       "<svg xmlns=\"http://www.w3.org/2000/svg\" height=\"24px\"viewBox=\"0 0 24 24\"\n",
       "     width=\"24px\">\n",
       "    <g>\n",
       "        <path d=\"M19 3H5c-1.1 0-2 .9-2 2v14c0 1.1.9 2 2 2h14c1.1 0 2-.9 2-2V5c0-1.1-.9-2-2-2zM9 17H7v-7h2v7zm4 0h-2V7h2v10zm4 0h-2v-4h2v4z\"/>\n",
       "    </g>\n",
       "</svg>\n",
       "  </button>\n",
       "\n",
       "<style>\n",
       "  .colab-df-quickchart {\n",
       "      --bg-color: #E8F0FE;\n",
       "      --fill-color: #1967D2;\n",
       "      --hover-bg-color: #E2EBFA;\n",
       "      --hover-fill-color: #174EA6;\n",
       "      --disabled-fill-color: #AAA;\n",
       "      --disabled-bg-color: #DDD;\n",
       "  }\n",
       "\n",
       "  [theme=dark] .colab-df-quickchart {\n",
       "      --bg-color: #3B4455;\n",
       "      --fill-color: #D2E3FC;\n",
       "      --hover-bg-color: #434B5C;\n",
       "      --hover-fill-color: #FFFFFF;\n",
       "      --disabled-bg-color: #3B4455;\n",
       "      --disabled-fill-color: #666;\n",
       "  }\n",
       "\n",
       "  .colab-df-quickchart {\n",
       "    background-color: var(--bg-color);\n",
       "    border: none;\n",
       "    border-radius: 50%;\n",
       "    cursor: pointer;\n",
       "    display: none;\n",
       "    fill: var(--fill-color);\n",
       "    height: 32px;\n",
       "    padding: 0;\n",
       "    width: 32px;\n",
       "  }\n",
       "\n",
       "  .colab-df-quickchart:hover {\n",
       "    background-color: var(--hover-bg-color);\n",
       "    box-shadow: 0 1px 2px rgba(60, 64, 67, 0.3), 0 1px 3px 1px rgba(60, 64, 67, 0.15);\n",
       "    fill: var(--button-hover-fill-color);\n",
       "  }\n",
       "\n",
       "  .colab-df-quickchart-complete:disabled,\n",
       "  .colab-df-quickchart-complete:disabled:hover {\n",
       "    background-color: var(--disabled-bg-color);\n",
       "    fill: var(--disabled-fill-color);\n",
       "    box-shadow: none;\n",
       "  }\n",
       "\n",
       "  .colab-df-spinner {\n",
       "    border: 2px solid var(--fill-color);\n",
       "    border-color: transparent;\n",
       "    border-bottom-color: var(--fill-color);\n",
       "    animation:\n",
       "      spin 1s steps(1) infinite;\n",
       "  }\n",
       "\n",
       "  @keyframes spin {\n",
       "    0% {\n",
       "      border-color: transparent;\n",
       "      border-bottom-color: var(--fill-color);\n",
       "      border-left-color: var(--fill-color);\n",
       "    }\n",
       "    20% {\n",
       "      border-color: transparent;\n",
       "      border-left-color: var(--fill-color);\n",
       "      border-top-color: var(--fill-color);\n",
       "    }\n",
       "    30% {\n",
       "      border-color: transparent;\n",
       "      border-left-color: var(--fill-color);\n",
       "      border-top-color: var(--fill-color);\n",
       "      border-right-color: var(--fill-color);\n",
       "    }\n",
       "    40% {\n",
       "      border-color: transparent;\n",
       "      border-right-color: var(--fill-color);\n",
       "      border-top-color: var(--fill-color);\n",
       "    }\n",
       "    60% {\n",
       "      border-color: transparent;\n",
       "      border-right-color: var(--fill-color);\n",
       "    }\n",
       "    80% {\n",
       "      border-color: transparent;\n",
       "      border-right-color: var(--fill-color);\n",
       "      border-bottom-color: var(--fill-color);\n",
       "    }\n",
       "    90% {\n",
       "      border-color: transparent;\n",
       "      border-bottom-color: var(--fill-color);\n",
       "    }\n",
       "  }\n",
       "</style>\n",
       "\n",
       "  <script>\n",
       "    async function quickchart(key) {\n",
       "      const quickchartButtonEl =\n",
       "        document.querySelector('#' + key + ' button');\n",
       "      quickchartButtonEl.disabled = true;  // To prevent multiple clicks.\n",
       "      quickchartButtonEl.classList.add('colab-df-spinner');\n",
       "      try {\n",
       "        const charts = await google.colab.kernel.invokeFunction(\n",
       "            'suggestCharts', [key], {});\n",
       "      } catch (error) {\n",
       "        console.error('Error during call to suggestCharts:', error);\n",
       "      }\n",
       "      quickchartButtonEl.classList.remove('colab-df-spinner');\n",
       "      quickchartButtonEl.classList.add('colab-df-quickchart-complete');\n",
       "    }\n",
       "    (() => {\n",
       "      let quickchartButtonEl =\n",
       "        document.querySelector('#df-0b92363b-bbf6-4862-a6f8-b111ea8febc4 button');\n",
       "      quickchartButtonEl.style.display =\n",
       "        google.colab.kernel.accessAllowed ? 'block' : 'none';\n",
       "    })();\n",
       "  </script>\n",
       "</div>\n",
       "    </div>\n",
       "  </div>\n"
      ],
      "text/plain": [
       "             data_hora                               atividade  gps_ativo  \\\n",
       "0  2022-01-01 11:56:00                           estado_activo      False   \n",
       "1  2022-01-01 11:56:00                                  ligado      False   \n",
       "2  2022-01-01 11:58:00                      gsm_diagnostics-pt      False   \n",
       "3  2022-01-01 11:58:00                  primeiro_acerto_do_gps       True   \n",
       "4  2022-01-01 11:59:00                      gsm_diagnostics-pt       True   \n",
       "5  2022-01-01 12:02:00                      gsm_diagnostics-pt       True   \n",
       "6  2022-01-01 12:07:00                      gsm_diagnostics-pt       True   \n",
       "7  2022-01-01 12:07:00                      gsm_diagnostics-pt       True   \n",
       "8  2022-01-01 12:11:00                      gsm_diagnostics-pt       True   \n",
       "9  2022-01-01 12:12:00                      gsm_diagnostics-pt       True   \n",
       "10 2022-01-01 12:12:00                      gsm_diagnostics-pt       True   \n",
       "11 2022-01-01 12:24:00                      gsm_diagnostics-pt       True   \n",
       "12 2022-01-01 12:26:00                      gsm_diagnostics-pt       True   \n",
       "13 2022-01-01 12:27:00                      gsm_diagnostics-pt       True   \n",
       "14 2022-01-01 12:39:00                      gsm_diagnostics-pt       True   \n",
       "15 2022-01-01 12:40:00                      gsm_diagnostics-pt       True   \n",
       "16 2022-01-01 12:42:00                      gsm_diagnostics-pt       True   \n",
       "17 2022-01-01 12:53:00                      gsm_diagnostics-pt       True   \n",
       "18 2022-01-01 12:55:00                      gsm_diagnostics-pt       True   \n",
       "19 2022-01-01 12:56:00  prestes_a_entrar_em_estado_de_descanso       True   \n",
       "\n",
       "    hora  nome_dia       lat1       lon1                  lat_lon  \n",
       "0     11  saturday -25.570758 -49.196145  -25.5707582|-49.1961449  \n",
       "1     11  saturday -25.570758 -49.196145  -25.5707582|-49.1961449  \n",
       "2     11  saturday -25.570758 -49.196145  -25.5707582|-49.1961449  \n",
       "3     11  saturday -25.570797 -49.196098  -25.5707972|-49.1960976  \n",
       "4     11  saturday -25.570803 -49.196095  -25.5708027|-49.1960953  \n",
       "5     12  saturday -25.570787 -49.196094  -25.5707872|-49.1960944  \n",
       "6     12  saturday -25.570775 -49.196099  -25.5707746|-49.1960989  \n",
       "7     12  saturday -25.570774 -49.196099  -25.5707744|-49.1960991  \n",
       "8     12  saturday -25.570741 -49.196129  -25.5707411|-49.1961288  \n",
       "9     12  saturday -25.570741 -49.196129  -25.5707411|-49.1961289  \n",
       "10    12  saturday -25.570741 -49.196129  -25.5707411|-49.1961289  \n",
       "11    12  saturday -25.570751 -49.196129  -25.5707509|-49.1961286  \n",
       "12    12  saturday -25.570749 -49.196110  -25.5707487|-49.1961096  \n",
       "13    12  saturday -25.570749 -49.196110  -25.5707492|-49.1961101  \n",
       "14    12  saturday -25.570769 -49.196107  -25.5707689|-49.1961071  \n",
       "15    12  saturday -25.570782 -49.196111  -25.5707822|-49.1961108  \n",
       "16    12  saturday -25.570782 -49.196109  -25.5707824|-49.1961094  \n",
       "17    12  saturday -25.570784 -49.196111  -25.5707836|-49.1961108  \n",
       "18    12  saturday -25.570770 -49.196085  -25.5707702|-49.1960848  \n",
       "19    12  saturday -25.570774 -49.196087  -25.5707737|-49.1960868  "
      ]
     },
     "execution_count": 7,
     "metadata": {},
     "output_type": "execute_result"
    }
   ],
   "source": [
    "# @title 6) Normalizar e filtrar conteudo das atividades\n",
    "def normalizar_nomes(nomes:list)->list:\n",
    "  \"\"\"\n",
    "  substituir espaço por \"_\"\n",
    "  converter tudo em minusculo\n",
    "  \"\"\"\n",
    "  nomes = [nome.lower() for nome in nomes]\n",
    "  nomes = [nome.replace(' ', '_') for nome in nomes]\n",
    "  return nomes\n",
    "\n",
    "atividades = df['atividade'].unique().tolist()\n",
    "atividades_normalizada = normalizar_nomes(atividades)\n",
    "\n",
    "for i,atividade in enumerate(atividades):\n",
    "  df1['atividade'] = df1['atividade'].replace(atividade, atividades_normalizada[i])\n",
    "\n",
    "df1.head(20)"
   ]
  },
  {
   "cell_type": "code",
   "execution_count": 8,
   "metadata": {
    "colab": {
     "base_uri": "https://localhost:8080/",
     "height": 373
    },
    "id": "Pwvks-ELkwvV",
    "outputId": "69004672-76e9-49d8-cbfe-b16cb421e11b"
   },
   "outputs": [
    {
     "data": {
      "application/vnd.google.colaboratory.intrinsic+json": {
       "type": "string"
      },
      "text/plain": [
       "'------------------------------'"
      ]
     },
     "metadata": {},
     "output_type": "display_data"
    },
    {
     "data": {
      "application/vnd.google.colaboratory.intrinsic+json": {
       "type": "string"
      },
      "text/plain": [
       "'nulos'"
      ]
     },
     "metadata": {},
     "output_type": "display_data"
    },
    {
     "data": {
      "application/vnd.google.colaboratory.intrinsic+json": {
       "type": "string"
      },
      "text/plain": [
       "'Sem valores Nulos'"
      ]
     },
     "metadata": {},
     "output_type": "display_data"
    },
    {
     "data": {
      "application/vnd.google.colaboratory.intrinsic+json": {
       "type": "string"
      },
      "text/plain": [
       "'------------------------------'"
      ]
     },
     "metadata": {},
     "output_type": "display_data"
    },
    {
     "data": {
      "application/vnd.google.colaboratory.intrinsic+json": {
       "type": "string"
      },
      "text/plain": [
       "'duplicados'"
      ]
     },
     "metadata": {},
     "output_type": "display_data"
    },
    {
     "data": {
      "text/plain": [
       "293"
      ]
     },
     "metadata": {},
     "output_type": "display_data"
    },
    {
     "data": {
      "application/vnd.google.colaboratory.intrinsic+json": {
       "type": "string"
      },
      "text/plain": [
       "'------------------------------'"
      ]
     },
     "metadata": {},
     "output_type": "display_data"
    },
    {
     "data": {
      "application/vnd.google.colaboratory.intrinsic+json": {
       "type": "string"
      },
      "text/plain": [
       "'tipo_dados'"
      ]
     },
     "metadata": {},
     "output_type": "display_data"
    },
    {
     "data": {
      "text/plain": [
       "data_hora    datetime64[ns]\n",
       "atividade            object\n",
       "gps_ativo              bool\n",
       "hora                  int64\n",
       "nome_dia             object\n",
       "lat1                float64\n",
       "lon1                float64\n",
       "lat_lon              object\n",
       "dtype: object"
      ]
     },
     "metadata": {},
     "output_type": "display_data"
    },
    {
     "data": {
      "application/vnd.google.colaboratory.intrinsic+json": {
       "type": "string"
      },
      "text/plain": [
       "'------------------------------'"
      ]
     },
     "metadata": {},
     "output_type": "display_data"
    },
    {
     "data": {
      "application/vnd.google.colaboratory.intrinsic+json": {
       "type": "string"
      },
      "text/plain": [
       "'objetos'"
      ]
     },
     "metadata": {},
     "output_type": "display_data"
    },
    {
     "data": {
      "text/plain": [
       "Index(['atividade', 'nome_dia', 'lat_lon'], dtype='object')"
      ]
     },
     "metadata": {},
     "output_type": "display_data"
    }
   ],
   "source": [
    "# @title 3) dataframe analise conteudo { form-width: \"30%\", display-mode: \"form\" }\n",
    "duplicados = True # @param {type:\"boolean\"}\n",
    "tipo_dados = True # @param {type:\"boolean\"}\n",
    "def df_analise(\n",
    "    df:pd.DataFrame,\n",
    "    #tipos:bool,\n",
    "    duplicados:bool,\n",
    "    tipo_dados:bool\n",
    "    )->dict:\n",
    "  dic = {}\n",
    "\n",
    "  if df.isna().sum().sum()==0:\n",
    "    dic['nulos'] = 'Sem valores Nulos'\n",
    "  else:\n",
    "    dic['nulos'] = df.isna().sum()\n",
    "\n",
    "  if duplicados:\n",
    "    dic['duplicados'] = df.duplicated().sum()\n",
    "  if tipo_dados:\n",
    "    dic['tipo_dados'] = df.dtypes\n",
    "\n",
    "  dic['objetos'] = df.select_dtypes(include=['object']).columns\n",
    "\n",
    "  return dic\n",
    "\n",
    "dic = df_analise(\n",
    "    df=df1,\n",
    "    duplicados=duplicados,\n",
    "    tipo_dados=tipo_dados\n",
    "    )\n",
    "\n",
    "for k,v in dic.items():\n",
    "  display('-'*30)\n",
    "  display(k,v)\n"
   ]
  },
  {
   "cell_type": "code",
   "execution_count": 9,
   "metadata": {
    "colab": {
     "base_uri": "https://localhost:8080/"
    },
    "id": "YUPaMTVaDqbC",
    "outputId": "56b754f8-90c0-4649-fc78-5df92435d441"
   },
   "outputs": [
    {
     "data": {
      "text/plain": [
       "array(['estado_activo', 'ligado', 'gsm_diagnostics-pt',\n",
       "       'primeiro_acerto_do_gps', 'prestes_a_entrar_em_estado_de_descanso',\n",
       "       'gsm_metrics-pt', 'chave_ligada', 'arranque_do_motor',\n",
       "       'chave_desligada', 'paragem_do_motor', 'em_andamento',\n",
       "       'sem_potência', 'relatório_atempado',\n",
       "       'routine_data_transmission-pt', 'parado',\n",
       "       'a_ser_rebocado_(ou_o_sinal_da_ignição_não_funciona)',\n",
       "       'entrada_de_distância'], dtype=object)"
      ]
     },
     "execution_count": 9,
     "metadata": {},
     "output_type": "execute_result"
    }
   ],
   "source": [
    "# @title 3) Atividade que indica operação do equipamento\n",
    "df1['atividade'].unique()"
   ]
  },
  {
   "cell_type": "code",
   "execution_count": 9,
   "metadata": {
    "id": "UdbaqVpsD4pS"
   },
   "outputs": [],
   "source": []
  },
  {
   "cell_type": "code",
   "execution_count": 10,
   "metadata": {
    "colab": {
     "base_uri": "https://localhost:8080/",
     "height": 451
    },
    "id": "mjESouI133Xc",
    "outputId": "024594f4-9cf4-4e81-86e5-bd19c24d34e9"
   },
   "outputs": [
    {
     "data": {
      "text/plain": [
       "<Axes: >"
      ]
     },
     "execution_count": 10,
     "metadata": {},
     "output_type": "execute_result"
    },
    {
     "data": {
      "image/png": "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\n",
      "text/plain": [
       "<Figure size 640x480 with 1 Axes>"
      ]
     },
     "metadata": {},
     "output_type": "display_data"
    }
   ],
   "source": [
    "df1['hora'].value_counts().sort_index(ascending=True).plot(kind='bar')"
   ]
  },
  {
   "cell_type": "code",
   "execution_count": 11,
   "metadata": {
    "colab": {
     "base_uri": "https://localhost:8080/",
     "height": 451
    },
    "id": "PUWvzg3n7_fC",
    "outputId": "b9d9ef22-bbc8-4a89-857f-cc8247313a9a"
   },
   "outputs": [
    {
     "data": {
      "text/plain": [
       "<Axes: >"
      ]
     },
     "execution_count": 11,
     "metadata": {},
     "output_type": "execute_result"
    },
    {
     "data": {
      "image/png": "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\n",
      "text/plain": [
       "<Figure size 640x480 with 1 Axes>"
      ]
     },
     "metadata": {},
     "output_type": "display_data"
    }
   ],
   "source": [
    "df2 = df1.query(\"atividade=='ligado'\")\n",
    "df2['hora'].value_counts().sort_index(ascending=True).plot(kind='bar')"
   ]
  },
  {
   "cell_type": "code",
   "execution_count": 12,
   "metadata": {
    "colab": {
     "base_uri": "https://localhost:8080/",
     "height": 447
    },
    "id": "plUNAYbu7P0S",
    "outputId": "a47b8371-5494-4d79-ebaa-93b6d40a249d"
   },
   "outputs": [
    {
     "data": {
      "text/plain": [
       "<Axes: >"
      ]
     },
     "execution_count": 12,
     "metadata": {},
     "output_type": "execute_result"
    },
    {
     "data": {
      "image/png": "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\n",
      "text/plain": [
       "<Figure size 640x480 with 1 Axes>"
      ]
     },
     "metadata": {},
     "output_type": "display_data"
    }
   ],
   "source": [
    "df1['nome_dia'].value_counts().plot(kind='barh')"
   ]
  },
  {
   "cell_type": "code",
   "execution_count": null,
   "metadata": {
    "colab": {
     "base_uri": "https://localhost:8080/"
    },
    "id": "Md-7s6At7nBy",
    "outputId": "3a889a06-56c9-472b-dd90-1b204a469cac"
   },
   "outputs": [
    {
     "data": {
      "text/plain": [
       "<Axes: >"
      ]
     },
     "execution_count": 13,
     "metadata": {},
     "output_type": "execute_result"
    }
   ],
   "source": [
    "df1['lat_lon'].value_counts().plot(kind='barh')"
   ]
  },
  {
   "cell_type": "code",
   "execution_count": null,
   "metadata": {
    "id": "O1zeP4qT_RX2"
   },
   "outputs": [],
   "source": [
    "# @title xx) entender a ocorrencia entre local hora e dia_semana\n",
    "#df1.dtypes\n",
    "teste = df1['nome_dia'].astype('string')\n",
    "df1.dtypes"
   ]
  },
  {
   "cell_type": "code",
   "execution_count": null,
   "metadata": {
    "id": "kLhzeKxW1duj"
   },
   "outputs": [],
   "source": []
  },
  {
   "cell_type": "code",
   "execution_count": null,
   "metadata": {
    "id": "UsbLvKWPyO_M"
   },
   "outputs": [],
   "source": [
    "df.select_dtypes(include=['object']).columns"
   ]
  },
  {
   "cell_type": "code",
   "execution_count": null,
   "metadata": {
    "id": "7r7sJ1QOfMGz"
   },
   "outputs": [],
   "source": [
    "url2 = 'https://drive.google.com/uc?export=download&id=1N4JttI8Daz9RW4WTzrmMd_7hT2iaRL_S'\n",
    "\n",
    "url = 'https://drive.google.com/file/d/1N4JttI8Daz9RW4WTzrmMd_7hT2iaRL_S'\n",
    "df2 = pd.read_csv(url2)\n",
    "df2"
   ]
  },
  {
   "cell_type": "code",
   "execution_count": null,
   "metadata": {
    "id": "Yl1_DgcFfRBl"
   },
   "outputs": [],
   "source": []
  }
 ],
 "metadata": {
  "colab": {
   "provenance": []
  },
  "kernelspec": {
   "display_name": "Python 3 (ipykernel)",
   "language": "python",
   "name": "python3"
  },
  "language_info": {
   "codemirror_mode": {
    "name": "ipython",
    "version": 3
   },
   "file_extension": ".py",
   "mimetype": "text/x-python",
   "name": "python",
   "nbconvert_exporter": "python",
   "pygments_lexer": "ipython3",
   "version": "3.11.4"
  },
  "toc-autonumbering": true,
  "toc-showmarkdowntxt": true,
  "toc-showtags": true
 },
 "nbformat": 4,
 "nbformat_minor": 4
}
=======
  "nbformat": 4,
  "nbformat_minor": 0,
  "metadata": {
    "colab": {
      "provenance": [],
      "authorship_tag": "ABX9TyNHwzhS7GgVzGt9jXYlirHa",
      "include_colab_link": true
    },
    "kernelspec": {
      "name": "python3",
      "display_name": "Python 3"
    },
    "language_info": {
      "name": "python"
    }
  },
  "cells": [
    {
      "cell_type": "markdown",
      "metadata": {
        "id": "view-in-github",
        "colab_type": "text"
      },
      "source": [
        "<a href=\"https://colab.research.google.com/github/CAIOZANETTI/produtividade_maquina/blob/main/etl_tabela_gps.ipynb\" target=\"_parent\"><img src=\"https://colab.research.google.com/assets/colab-badge.svg\" alt=\"Open In Colab\"/></a>"
      ]
    },
    {
      "cell_type": "code",
      "execution_count": null,
      "metadata": {
        "id": "ax_Kt7SP8Fl-"
      },
      "outputs": [],
      "source": []
    }
  ]
}
>>>>>>> de2eeb98721d86f5f36cfc965a677f8bf795c0e0
